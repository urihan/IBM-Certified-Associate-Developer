{
 "cells": [
  {
   "cell_type": "markdown",
   "id": "0b213f25",
   "metadata": {},
   "source": [
    "# Chapter 1.2 Notebook"
   ]
  },
  {
   "cell_type": "code",
   "execution_count": 1,
   "id": "2ece88c5",
   "metadata": {},
   "outputs": [],
   "source": [
    "from qiskit import QuantumCircuit, assemble, Aer\n",
    "from qiskit.visualization import plot_histogram"
   ]
  },
  {
   "cell_type": "code",
   "execution_count": 5,
   "id": "3b71c56e",
   "metadata": {},
   "outputs": [],
   "source": [
    "qc_output = QuantumCircuit(8)\n",
    "qc_output.measure_all()"
   ]
  },
  {
   "cell_type": "code",
   "execution_count": 6,
   "id": "52be4dfb",
   "metadata": {},
   "outputs": [
    {
     "data": {
      "text/html": [
       "<pre style=\"word-wrap: normal;white-space: pre;background: #fff0;line-height: 1.1;font-family: &quot;Courier New&quot;,Courier,monospace\">           ░ ┌─┐                     \n",
       "  q_0: |0>─░─┤M├─────────────────────\n",
       "           ░ └╥┘┌─┐                  \n",
       "  q_1: |0>─░──╫─┤M├──────────────────\n",
       "           ░  ║ └╥┘┌─┐               \n",
       "  q_2: |0>─░──╫──╫─┤M├───────────────\n",
       "           ░  ║  ║ └╥┘┌─┐            \n",
       "  q_3: |0>─░──╫──╫──╫─┤M├────────────\n",
       "           ░  ║  ║  ║ └╥┘┌─┐         \n",
       "  q_4: |0>─░──╫──╫──╫──╫─┤M├─────────\n",
       "           ░  ║  ║  ║  ║ └╥┘┌─┐      \n",
       "  q_5: |0>─░──╫──╫──╫──╫──╫─┤M├──────\n",
       "           ░  ║  ║  ║  ║  ║ └╥┘┌─┐   \n",
       "  q_6: |0>─░──╫──╫──╫──╫──╫──╫─┤M├───\n",
       "           ░  ║  ║  ║  ║  ║  ║ └╥┘┌─┐\n",
       "  q_7: |0>─░──╫──╫──╫──╫──╫──╫──╫─┤M├\n",
       "           ░  ║  ║  ║  ║  ║  ║  ║ └╥┘\n",
       "meas_0: 0 ════╩══╬══╬══╬══╬══╬══╬══╬═\n",
       "                 ║  ║  ║  ║  ║  ║  ║ \n",
       "meas_1: 0 ═══════╩══╬══╬══╬══╬══╬══╬═\n",
       "                    ║  ║  ║  ║  ║  ║ \n",
       "meas_2: 0 ══════════╩══╬══╬══╬══╬══╬═\n",
       "                       ║  ║  ║  ║  ║ \n",
       "meas_3: 0 ═════════════╩══╬══╬══╬══╬═\n",
       "                          ║  ║  ║  ║ \n",
       "meas_4: 0 ════════════════╩══╬══╬══╬═\n",
       "                             ║  ║  ║ \n",
       "meas_5: 0 ═══════════════════╩══╬══╬═\n",
       "                                ║  ║ \n",
       "meas_6: 0 ══════════════════════╩══╬═\n",
       "                                   ║ \n",
       "meas_7: 0 ═════════════════════════╩═\n",
       "                                     </pre>"
      ],
      "text/plain": [
       "           ░ ┌─┐                     \n",
       "  q_0: |0>─░─┤M├─────────────────────\n",
       "           ░ └╥┘┌─┐                  \n",
       "  q_1: |0>─░──╫─┤M├──────────────────\n",
       "           ░  ║ └╥┘┌─┐               \n",
       "  q_2: |0>─░──╫──╫─┤M├───────────────\n",
       "           ░  ║  ║ └╥┘┌─┐            \n",
       "  q_3: |0>─░──╫──╫──╫─┤M├────────────\n",
       "           ░  ║  ║  ║ └╥┘┌─┐         \n",
       "  q_4: |0>─░──╫──╫──╫──╫─┤M├─────────\n",
       "           ░  ║  ║  ║  ║ └╥┘┌─┐      \n",
       "  q_5: |0>─░──╫──╫──╫──╫──╫─┤M├──────\n",
       "           ░  ║  ║  ║  ║  ║ └╥┘┌─┐   \n",
       "  q_6: |0>─░──╫──╫──╫──╫──╫──╫─┤M├───\n",
       "           ░  ║  ║  ║  ║  ║  ║ └╥┘┌─┐\n",
       "  q_7: |0>─░──╫──╫──╫──╫──╫──╫──╫─┤M├\n",
       "           ░  ║  ║  ║  ║  ║  ║  ║ └╥┘\n",
       "meas_0: 0 ════╩══╬══╬══╬══╬══╬══╬══╬═\n",
       "                 ║  ║  ║  ║  ║  ║  ║ \n",
       "meas_1: 0 ═══════╩══╬══╬══╬══╬══╬══╬═\n",
       "                    ║  ║  ║  ║  ║  ║ \n",
       "meas_2: 0 ══════════╩══╬══╬══╬══╬══╬═\n",
       "                       ║  ║  ║  ║  ║ \n",
       "meas_3: 0 ═════════════╩══╬══╬══╬══╬═\n",
       "                          ║  ║  ║  ║ \n",
       "meas_4: 0 ════════════════╩══╬══╬══╬═\n",
       "                             ║  ║  ║ \n",
       "meas_5: 0 ═══════════════════╩══╬══╬═\n",
       "                                ║  ║ \n",
       "meas_6: 0 ══════════════════════╩══╬═\n",
       "                                   ║ \n",
       "meas_7: 0 ═════════════════════════╩═\n",
       "                                     "
      ]
     },
     "execution_count": 6,
     "metadata": {},
     "output_type": "execute_result"
    }
   ],
   "source": [
    "qc_output.draw(initial_state=True)"
   ]
  },
  {
   "cell_type": "code",
   "execution_count": 7,
   "id": "2b4ee75e",
   "metadata": {},
   "outputs": [
    {
     "data": {
      "image/png": "[encoded data removed]",
      "text/plain": [
       "<Figure size 700x500 with 1 Axes>"
      ]
     },
     "execution_count": 7,
     "metadata": {},
     "output_type": "execute_result"
    }
   ],
   "source": [
    "sim = Aer.get_backend('aer_simulator')\n",
    "result = sim.run(qc_output).result()\n",
    "counts = result.get_counts()\n",
    "plot_histogram(counts)"
   ]
  },
  {
   "cell_type": "markdown",
   "id": "c058434c",
   "metadata": {},
   "source": [
    "## Creating an Adder Circuit \n",
    "\n",
    "### Explanation\n",
    "- Adding a Xgate or NOT gate flips q_7 gate from 0 to 1\n",
    "- As a result, we get 10000000 instread of 00000000"
   ]
  },
  {
   "cell_type": "code",
   "execution_count": 8,
   "id": "3d64cb42",
   "metadata": {},
   "outputs": [
    {
     "data": {
      "text/html": [
       "<pre style=\"word-wrap: normal;white-space: pre;background: #fff0;line-height: 1.1;font-family: &quot;Courier New&quot;,Courier,monospace\">          \n",
       "q_0: ─────\n",
       "          \n",
       "q_1: ─────\n",
       "          \n",
       "q_2: ─────\n",
       "          \n",
       "q_3: ─────\n",
       "          \n",
       "q_4: ─────\n",
       "          \n",
       "q_5: ─────\n",
       "          \n",
       "q_6: ─────\n",
       "     ┌───┐\n",
       "q_7: ┤ X ├\n",
       "     └───┘</pre>"
      ],
      "text/plain": [
       "          \n",
       "q_0: ─────\n",
       "          \n",
       "q_1: ─────\n",
       "          \n",
       "q_2: ─────\n",
       "          \n",
       "q_3: ─────\n",
       "          \n",
       "q_4: ─────\n",
       "          \n",
       "q_5: ─────\n",
       "          \n",
       "q_6: ─────\n",
       "     ┌───┐\n",
       "q_7: ┤ X ├\n",
       "     └───┘"
      ]
     },
     "execution_count": 8,
     "metadata": {},
     "output_type": "execute_result"
    }
   ],
   "source": [
    "qc_encode = QuantumCircuit(8)\n",
    "qc_encode.x(7)\n",
    "qc_encode.draw()"
   ]
  },
  {
   "cell_type": "code",
   "execution_count": 9,
   "id": "7ab53f03",
   "metadata": {},
   "outputs": [
    {
     "data": {
      "text/html": [
       "<pre style=\"word-wrap: normal;white-space: pre;background: #fff0;line-height: 1.1;font-family: &quot;Courier New&quot;,Courier,monospace\">              ░ ┌─┐                     \n",
       "   q_0: ──────░─┤M├─────────────────────\n",
       "              ░ └╥┘┌─┐                  \n",
       "   q_1: ──────░──╫─┤M├──────────────────\n",
       "              ░  ║ └╥┘┌─┐               \n",
       "   q_2: ──────░──╫──╫─┤M├───────────────\n",
       "              ░  ║  ║ └╥┘┌─┐            \n",
       "   q_3: ──────░──╫──╫──╫─┤M├────────────\n",
       "              ░  ║  ║  ║ └╥┘┌─┐         \n",
       "   q_4: ──────░──╫──╫──╫──╫─┤M├─────────\n",
       "              ░  ║  ║  ║  ║ └╥┘┌─┐      \n",
       "   q_5: ──────░──╫──╫──╫──╫──╫─┤M├──────\n",
       "              ░  ║  ║  ║  ║  ║ └╥┘┌─┐   \n",
       "   q_6: ──────░──╫──╫──╫──╫──╫──╫─┤M├───\n",
       "        ┌───┐ ░  ║  ║  ║  ║  ║  ║ └╥┘┌─┐\n",
       "   q_7: ┤ X ├─░──╫──╫──╫──╫──╫──╫──╫─┤M├\n",
       "        └───┘ ░  ║  ║  ║  ║  ║  ║  ║ └╥┘\n",
       "meas_0: ═════════╩══╬══╬══╬══╬══╬══╬══╬═\n",
       "                    ║  ║  ║  ║  ║  ║  ║ \n",
       "meas_1: ════════════╩══╬══╬══╬══╬══╬══╬═\n",
       "                       ║  ║  ║  ║  ║  ║ \n",
       "meas_2: ═══════════════╩══╬══╬══╬══╬══╬═\n",
       "                          ║  ║  ║  ║  ║ \n",
       "meas_3: ══════════════════╩══╬══╬══╬══╬═\n",
       "                             ║  ║  ║  ║ \n",
       "meas_4: ═════════════════════╩══╬══╬══╬═\n",
       "                                ║  ║  ║ \n",
       "meas_5: ════════════════════════╩══╬══╬═\n",
       "                                   ║  ║ \n",
       "meas_6: ═══════════════════════════╩══╬═\n",
       "                                      ║ \n",
       "meas_7: ══════════════════════════════╩═\n",
       "                                        </pre>"
      ],
      "text/plain": [
       "              ░ ┌─┐                     \n",
       "   q_0: ──────░─┤M├─────────────────────\n",
       "              ░ └╥┘┌─┐                  \n",
       "   q_1: ──────░──╫─┤M├──────────────────\n",
       "              ░  ║ └╥┘┌─┐               \n",
       "   q_2: ──────░──╫──╫─┤M├───────────────\n",
       "              ░  ║  ║ └╥┘┌─┐            \n",
       "   q_3: ──────░──╫──╫──╫─┤M├────────────\n",
       "              ░  ║  ║  ║ └╥┘┌─┐         \n",
       "   q_4: ──────░──╫──╫──╫──╫─┤M├─────────\n",
       "              ░  ║  ║  ║  ║ └╥┘┌─┐      \n",
       "   q_5: ──────░──╫──╫──╫──╫──╫─┤M├──────\n",
       "              ░  ║  ║  ║  ║  ║ └╥┘┌─┐   \n",
       "   q_6: ──────░──╫──╫──╫──╫──╫──╫─┤M├───\n",
       "        ┌───┐ ░  ║  ║  ║  ║  ║  ║ └╥┘┌─┐\n",
       "   q_7: ┤ X ├─░──╫──╫──╫──╫──╫──╫──╫─┤M├\n",
       "        └───┘ ░  ║  ║  ║  ║  ║  ║  ║ └╥┘\n",
       "meas_0: ═════════╩══╬══╬══╬══╬══╬══╬══╬═\n",
       "                    ║  ║  ║  ║  ║  ║  ║ \n",
       "meas_1: ════════════╩══╬══╬══╬══╬══╬══╬═\n",
       "                       ║  ║  ║  ║  ║  ║ \n",
       "meas_2: ═══════════════╩══╬══╬══╬══╬══╬═\n",
       "                          ║  ║  ║  ║  ║ \n",
       "meas_3: ══════════════════╩══╬══╬══╬══╬═\n",
       "                             ║  ║  ║  ║ \n",
       "meas_4: ═════════════════════╩══╬══╬══╬═\n",
       "                                ║  ║  ║ \n",
       "meas_5: ════════════════════════╩══╬══╬═\n",
       "                                   ║  ║ \n",
       "meas_6: ═══════════════════════════╩══╬═\n",
       "                                      ║ \n",
       "meas_7: ══════════════════════════════╩═\n",
       "                                        "
      ]
     },
     "execution_count": 9,
     "metadata": {},
     "output_type": "execute_result"
    }
   ],
   "source": [
    "qc_encode.measure_all()\n",
    "qc_encode.draw()"
   ]
  },
  {
   "cell_type": "code",
   "execution_count": 10,
   "id": "3db01518",
   "metadata": {},
   "outputs": [
    {
     "data": {
      "image/png": "[encoded data removed]",
      "text/plain": [
       "<Figure size 700x500 with 1 Axes>"
      ]
     },
     "execution_count": 10,
     "metadata": {},
     "output_type": "execute_result"
    }
   ],
   "source": [
    "sim = Aer.get_backend('aer_simulator')\n",
    "result = sim.run(qc_encode).result()\n",
    "counts = result.get_counts()\n",
    "plot_histogram(counts)"
   ]
  },
  {
   "cell_type": "markdown",
   "id": "c4a4eea0",
   "metadata": {},
   "source": [
    "## Half-Adder "
   ]
  },
  {
   "cell_type": "code",
   "execution_count": 15,
   "id": "109b3f88",
   "metadata": {},
   "outputs": [
    {
     "data": {
      "text/html": [
       "<pre style=\"word-wrap: normal;white-space: pre;background: #fff0;line-height: 1.1;font-family: &quot;Courier New&quot;,Courier,monospace\">     ┌───┐     ┌─┐   \n",
       "q_0: ┤ X ├──■──┤M├───\n",
       "     └───┘┌─┴─┐└╥┘┌─┐\n",
       "q_1: ─────┤ X ├─╫─┤M├\n",
       "          └───┘ ║ └╥┘\n",
       "c_0: ═══════════╩══╬═\n",
       "                   ║ \n",
       "c_1: ══════════════╩═\n",
       "                     </pre>"
      ],
      "text/plain": [
       "     ┌───┐     ┌─┐   \n",
       "q_0: ┤ X ├──■──┤M├───\n",
       "     └───┘┌─┴─┐└╥┘┌─┐\n",
       "q_1: ─────┤ X ├─╫─┤M├\n",
       "          └───┘ ║ └╥┘\n",
       "c_0: ═══════════╩══╬═\n",
       "                   ║ \n",
       "c_1: ══════════════╩═\n",
       "                     "
      ]
     },
     "execution_count": 15,
     "metadata": {},
     "output_type": "execute_result"
    }
   ],
   "source": [
    "qc = QuantumCircuit(2,2)\n",
    "qc.x(0)\n",
    "qc.cx(0,1)\n",
    "qc.measure(0,0)\n",
    "qc.measure(1,1)\n",
    "qc.draw()"
   ]
  },
  {
   "cell_type": "code",
   "execution_count": 16,
   "id": "316d13eb",
   "metadata": {},
   "outputs": [
    {
     "data": {
      "text/html": [
       "<pre style=\"word-wrap: normal;white-space: pre;background: #fff0;line-height: 1.1;font-family: &quot;Courier New&quot;,Courier,monospace\">     ┌───┐ ░            ░       \n",
       "q_0: ┤ X ├─░───■────────░───────\n",
       "     ├───┤ ░   │        ░       \n",
       "q_1: ┤ X ├─░───┼────■───░───────\n",
       "     └───┘ ░ ┌─┴─┐┌─┴─┐ ░ ┌─┐   \n",
       "q_2: ──────░─┤ X ├┤ X ├─░─┤M├───\n",
       "           ░ └───┘└───┘ ░ └╥┘┌─┐\n",
       "q_3: ──────░────────────░──╫─┤M├\n",
       "           ░            ░  ║ └╥┘\n",
       "c_0: ══════════════════════╩══╬═\n",
       "                              ║ \n",
       "c_1: ═════════════════════════╩═\n",
       "                                </pre>"
      ],
      "text/plain": [
       "     ┌───┐ ░            ░       \n",
       "q_0: ┤ X ├─░───■────────░───────\n",
       "     ├───┤ ░   │        ░       \n",
       "q_1: ┤ X ├─░───┼────■───░───────\n",
       "     └───┘ ░ ┌─┴─┐┌─┴─┐ ░ ┌─┐   \n",
       "q_2: ──────░─┤ X ├┤ X ├─░─┤M├───\n",
       "           ░ └───┘└───┘ ░ └╥┘┌─┐\n",
       "q_3: ──────░────────────░──╫─┤M├\n",
       "           ░            ░  ║ └╥┘\n",
       "c_0: ══════════════════════╩══╬═\n",
       "                              ║ \n",
       "c_1: ═════════════════════════╩═\n",
       "                                "
      ]
     },
     "execution_count": 16,
     "metadata": {},
     "output_type": "execute_result"
    }
   ],
   "source": [
    "qc_ha = QuantumCircuit(4,2)\n",
    "qc_ha.x(0)\n",
    "qc_ha.x(1)\n",
    "qc_ha.barrier()\n",
    "\n",
    "qc_ha.cx(0,2)\n",
    "qc_ha.cx(1,2)\n",
    "qc_ha.barrier()\n",
    "\n",
    "qc_ha.measure(2,0)\n",
    "qc_ha.measure(3,1)\n",
    "\n",
    "qc_ha.draw()"
   ]
  },
  {
   "cell_type": "code",
   "execution_count": 18,
   "id": "0f172c4a",
   "metadata": {},
   "outputs": [
    {
     "data": {
      "text/html": [
       "<pre style=\"word-wrap: normal;white-space: pre;background: #fff0;line-height: 1.1;font-family: &quot;Courier New&quot;,Courier,monospace\">     ┌───┐ ░                 ░       \n",
       "q_0: ┤ X ├─░───■─────────■───░───────\n",
       "     ├───┤ ░   │         │   ░       \n",
       "q_1: ┤ X ├─░───┼────■────■───░───────\n",
       "     └───┘ ░ ┌─┴─┐┌─┴─┐  │   ░ ┌─┐   \n",
       "q_2: ──────░─┤ X ├┤ X ├──┼───░─┤M├───\n",
       "           ░ └───┘└───┘┌─┴─┐ ░ └╥┘┌─┐\n",
       "q_3: ──────░───────────┤ X ├─░──╫─┤M├\n",
       "           ░           └───┘ ░  ║ └╥┘\n",
       "c_0: ═══════════════════════════╩══╬═\n",
       "                                   ║ \n",
       "c_1: ══════════════════════════════╩═\n",
       "                                     </pre>"
      ],
      "text/plain": [
       "     ┌───┐ ░                 ░       \n",
       "q_0: ┤ X ├─░───■─────────■───░───────\n",
       "     ├───┤ ░   │         │   ░       \n",
       "q_1: ┤ X ├─░───┼────■────■───░───────\n",
       "     └───┘ ░ ┌─┴─┐┌─┴─┐  │   ░ ┌─┐   \n",
       "q_2: ──────░─┤ X ├┤ X ├──┼───░─┤M├───\n",
       "           ░ └───┘└───┘┌─┴─┐ ░ └╥┘┌─┐\n",
       "q_3: ──────░───────────┤ X ├─░──╫─┤M├\n",
       "           ░           └───┘ ░  ║ └╥┘\n",
       "c_0: ═══════════════════════════╩══╬═\n",
       "                                   ║ \n",
       "c_1: ══════════════════════════════╩═\n",
       "                                     "
      ]
     },
     "execution_count": 18,
     "metadata": {},
     "output_type": "execute_result"
    }
   ],
   "source": [
    "qc_ha = QuantumCircuit(4,2)\n",
    "# encode inputs in qubits 0 and 1\n",
    "\n",
    "qc_ha.x(0) # For a=0, remove the this line. For a=1, leave it.\n",
    "qc_ha.x(1) # For b=0, remove the this line. For b=1, leave it.\n",
    "qc_ha.barrier()\n",
    "\n",
    "# use cnots to write the XOR of the inputs on qubit 2\n",
    "qc_ha.cx(0,2)\n",
    "qc_ha.cx(1,2)\n",
    "\n",
    "# use ccx to write the AND of the inputs on qubit 3\n",
    "qc_ha.ccx(0,1,3)\n",
    "qc_ha.barrier()\n",
    "# extract outputs\n",
    "\n",
    "qc_ha.measure(2,0) # extract XOR value\n",
    "qc_ha.measure(3,1) # extract AND value\n",
    "\n",
    "qc_ha.draw()"
   ]
  },
  {
   "cell_type": "code",
   "execution_count": 19,
   "id": "ad0d72e1",
   "metadata": {},
   "outputs": [
    {
     "data": {
      "image/png": "[encoded data removed]",
      "text/plain": [
       "<Figure size 700x500 with 1 Axes>"
      ]
     },
     "execution_count": 19,
     "metadata": {},
     "output_type": "execute_result"
    }
   ],
   "source": [
    "qobj = assemble(qc_ha)\n",
    "counts = sim.run(qobj).result().get_counts()\n",
    "plot_histogram(counts)"
   ]
  },
  {
   "cell_type": "code",
   "execution_count": null,
   "id": "2d0b33fc",
   "metadata": {},
   "outputs": [],
   "source": []
  }
 ],
 "metadata": {
  "kernelspec": {
   "display_name": "Python 3 (ipykernel)",
   "language": "python",
   "name": "python3"
  },
  "language_info": {
   "codemirror_mode": {
    "name": "ipython",
    "version": 3
   },
   "file_extension": ".py",
   "mimetype": "text/x-python",
   "name": "python",
   "nbconvert_exporter": "python",
   "pygments_lexer": "ipython3",
   "version": "3.9.13"
  }
 },
 "nbformat": 4,
 "nbformat_minor": 5
}
