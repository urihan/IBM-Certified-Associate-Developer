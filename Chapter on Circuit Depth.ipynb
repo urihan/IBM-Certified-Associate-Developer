{
 "cells": [
  {
   "cell_type": "markdown",
   "id": "a3e2dc04",
   "metadata": {},
   "source": [
    "# Depth of a quantum circuit "
   ]
  },
  {
   "cell_type": "code",
   "execution_count": 2,
   "id": "b692d100",
   "metadata": {},
   "outputs": [],
   "source": [
    "# from qiskit import QuantumCircuit, Aer, assemble\n",
    "from qiskit import *\n",
    "import numpy as np\n",
    "from qiskit.visualization import plot_histogram, plot_bloch_multivector"
   ]
  },
  {
   "cell_type": "markdown",
   "id": "c3cf4c23",
   "metadata": {},
   "source": [
    "### First Circuit"
   ]
  },
  {
   "cell_type": "code",
   "execution_count": 4,
   "id": "39d7523c",
   "metadata": {},
   "outputs": [
    {
     "name": "stdout",
     "output_type": "stream",
     "text": [
      "     ┌───┐┌───┐┌───┐┌───┐          \n",
      "q_0: ┤ H ├┤ H ├┤ H ├┤ H ├──■───────\n",
      "     └───┘└───┘└───┘└───┘┌─┴─┐┌───┐\n",
      "q_1: ────────────────────┤ X ├┤ H ├\n",
      "                         └───┘└───┘\n",
      "circuit depth :  6\n"
     ]
    }
   ],
   "source": [
    "qc = QuantumCircuit(2)\n",
    "qc.h(0)\n",
    "qc.h(0)\n",
    "qc.h(0)\n",
    "qc.h(0)\n",
    "qc.cx(0,1)\n",
    "qc.h(1)\n",
    "print(qc)\n",
    "print(\"circuit depth : \", qc.depth())"
   ]
  },
  {
   "cell_type": "markdown",
   "id": "5926b230",
   "metadata": {},
   "source": [
    "#### Note 1 : \n",
    "- first qubit has 4 Hadamards and a CX gate, total of 5 depth \n",
    "- second qubit has CX and one another H. As the second qubit needs to wait for the first qubit, it requires one more depth \n",
    "- Therefore, total of 6 depths"
   ]
  },
  {
   "cell_type": "markdown",
   "id": "63ac4fd7",
   "metadata": {},
   "source": [
    "### Second Circuit"
   ]
  },
  {
   "cell_type": "code",
   "execution_count": 8,
   "id": "594f28c2",
   "metadata": {},
   "outputs": [
    {
     "name": "stdout",
     "output_type": "stream",
     "text": [
      "     ┌───┐     ┌───┐     \n",
      "q_0: ┤ H ├──■──┤ H ├─────\n",
      "     └───┘┌─┴─┐├───┤     \n",
      "q_1: ─────┤ X ├┤ H ├──■──\n",
      "          └───┘└───┘┌─┴─┐\n",
      "q_2: ───────────────┤ X ├\n",
      "                    └───┘\n",
      "circuit depth :  4\n"
     ]
    }
   ],
   "source": [
    "qc = QuantumCircuit(3)\n",
    "qc.h(0)\n",
    "qc.cx(0,1)\n",
    "qc.h(0)\n",
    "qc.h(1)\n",
    "qc.cx(1,2)\n",
    "print(qc)\n",
    "print(\"circuit depth : \", qc.depth())"
   ]
  },
  {
   "cell_type": "markdown",
   "id": "6829910b",
   "metadata": {},
   "source": [
    "#### Note 2 : \n",
    "- h(0) : [1,0,0]\n",
    "- cx(0,1) : [2,1,0] -> [2,2,0]\n",
    "- h(0) : [3,2,0]\n",
    "- h(1) : [3,3,0]\n",
    "- cx(1,2) : [3,4,0] -> [3,4,4] \n",
    "\n",
    "For each depth, count increases by 0 for each qubit. But for cx gate, the depth that is controlled and not (applying and being applied) needs to take the highest count"
   ]
  },
  {
   "cell_type": "markdown",
   "id": "f1bf4236",
   "metadata": {},
   "source": [
    "resource: https://medium.com/arnaldo-gunzi-quantum/how-to-calculate-the-depth-of-a-quantum-circuit-in-qiskit-868505abc104"
   ]
  }
 ],
 "metadata": {
  "kernelspec": {
   "display_name": "Python 3 (ipykernel)",
   "language": "python",
   "name": "python3"
  },
  "language_info": {
   "codemirror_mode": {
    "name": "ipython",
    "version": 3
   },
   "file_extension": ".py",
   "mimetype": "text/x-python",
   "name": "python",
   "nbconvert_exporter": "python",
   "pygments_lexer": "ipython3",
   "version": "3.9.13"
  }
 },
 "nbformat": 4,
 "nbformat_minor": 5
}
